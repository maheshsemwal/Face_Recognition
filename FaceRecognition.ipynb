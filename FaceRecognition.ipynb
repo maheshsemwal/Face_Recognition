{
 "cells": [
  {
   "cell_type": "markdown",
   "id": "0329b9a2-5e0e-4e50-97a8-e61168474afc",
   "metadata": {},
   "source": [
    "# import dependecies"
   ]
  },
  {
   "cell_type": "code",
   "execution_count": 2,
   "id": "bc127a13-4656-410d-87a2-63609ffb910f",
   "metadata": {},
   "outputs": [],
   "source": [
    "import cv2\n",
    "import os\n",
    "import numpy as np\n",
    "import uuid\n",
    "from pathlib import Path\n",
    "import json\n",
    "from sklearn.model_selection import train_test_split\n",
    "from tensorflow.keras.preprocessing.image import ImageDataGenerator\n",
    "from tensorflow.keras.applications import ResNet50\n",
    "from tensorflow.keras.layers import Dense, Flatten, Dropout\n",
    "from tensorflow.keras.models import Model, load_model\n",
    "from tensorflow.keras.optimizers import Adam\n",
    "from tensorflow.keras.applications import ResNet50\n",
    "from tensorflow.keras.layers import Dense, Flatten, GlobalAveragePooling2D"
   ]
  },
  {
   "cell_type": "markdown",
   "id": "b7ff4f3b-36b1-418b-af92-8f5ecd8d995b",
   "metadata": {},
   "source": [
    "# DataSet Generation"
   ]
  },
  {
   "cell_type": "code",
   "execution_count": 10,
   "id": "7b790a9d-5953-453d-8380-d15ddc470aa2",
   "metadata": {},
   "outputs": [
    {
     "name": "stdout",
     "output_type": "stream",
     "text": [
      "Collecting samples is completed.\n"
     ]
    }
   ],
   "source": [
    "def generate_dataset(name):\n",
    "    face_classifier = cv2.CascadeClassifier(\"haarcascade_frontalface_default.xml\")\n",
    "    \n",
    "    def face_cropped(img):\n",
    "        gray = cv2.cvtColor(img, cv2.COLOR_BGR2GRAY)\n",
    "        faces = face_classifier.detectMultiScale(gray, 1.3, 5)\n",
    "        \n",
    "        if len(faces) == 0:\n",
    "            return None\n",
    "        # Assuming single face detection for simplicity\n",
    "        (x, y, w, h) = faces[0]\n",
    "        cropped_face = img[y:y+h, x:x+w]\n",
    "        return cropped_face\n",
    "    \n",
    "    cap = cv2.VideoCapture(0)\n",
    "    img_id = 0\n",
    "    \n",
    "    while True:\n",
    "        ret, frame = cap.read()\n",
    "        if face_cropped(frame) is not None:\n",
    "            img_id += 1\n",
    "            face = cv2.resize(face_cropped(frame), (200, 200))\n",
    "            face = cv2.cvtColor(face, cv2.COLOR_BGR2GRAY)\n",
    "            \n",
    "            unique_filename = f\"{name}_{str(uuid.uuid4())}.jpg\"\n",
    "            file_name_path = os.path.join(\"data\", unique_filename)\n",
    "            cv2.imwrite(file_name_path, face)\n",
    "            cv2.putText(face, str(img_id), (50, 50), cv2.FONT_HERSHEY_COMPLEX, 1, (0, 255, 0), 2)\n",
    "            \n",
    "            cv2.imshow(\"Cropped face\", face)\n",
    "        \n",
    "        if cv2.waitKey(1) == 13 or img_id == 200: # 13 is the ASCII character of Enter\n",
    "            break\n",
    "    \n",
    "    cap.release()\n",
    "    cv2.destroyAllWindows()\n",
    "    print(\"Collecting samples is completed.\")\n",
    "\n",
    "# Example usage\n",
    "generate_dataset(\"Mahesh_Semwal\")\n"
   ]
  },
  {
   "cell_type": "markdown",
   "id": "f26de447-d216-4da8-85c5-d0975b469d34",
   "metadata": {},
   "source": [
    "# Save Data from SourceDir to Data and CROP"
   ]
  },
  {
   "cell_type": "code",
   "execution_count": 1,
   "id": "9930e6fa-44f0-4c22-8f4e-c7f6b9b86372",
   "metadata": {},
   "outputs": [],
   "source": [
    "def crop_faces_and_save(source_dir, target_dir):\n",
    "    # Initialize face cascade\n",
    "    face_classifier = cv2.CascadeClassifier(\"haarcascade_frontalface_default.xml\")\n",
    "\n",
    "    # Ensure the target directory exists\n",
    "    os.makedirs(target_dir, exist_ok=True)\n",
    "\n",
    "    # Process each image in the dataset\n",
    "    for person_dir in Path(source_dir).iterdir():\n",
    "        if person_dir.is_dir():\n",
    "            person_name = person_dir.name\n",
    "            for image_path in person_dir.iterdir():\n",
    "                if image_path.is_file() and image_path.suffix in [\".jpg\", \".jpeg\", \".png\"]:\n",
    "                    img = cv2.imread(str(image_path))\n",
    "                    gray_img = cv2.cvtColor(img, cv2.COLOR_BGR2GRAY)\n",
    "                    \n",
    "                    # Detect faces\n",
    "                    faces = face_classifier.detectMultiScale(gray_img, scaleFactor=1.3, minNeighbors=5)\n",
    "                    \n",
    "                    # Crop and save each detected face\n",
    "                    for i, (x, y, w, h) in enumerate(faces):\n",
    "                        face = gray_img[y:y+h, x:x+w]\n",
    "                        unique_filename = f\"{person_name}_{i}_{str(uuid.uuid4())}.jpg\"\n",
    "                        file_name_path = os.path.join(target_dir, unique_filename)\n",
    "                        cv2.imwrite(file_name_path, face)\n",
    "\n",
    "    print(\"Face cropping and saving completed for all images in 'dataSet' directory.\")\n"
   ]
  },
  {
   "cell_type": "code",
   "execution_count": 12,
   "id": "5ed5f81f-17c5-4992-89a6-5690f286cb57",
   "metadata": {},
   "outputs": [
    {
     "ename": "NameError",
     "evalue": "name 'crop_faces_and_save' is not defined",
     "output_type": "error",
     "traceback": [
      "\u001b[1;31m---------------------------------------------------------------------------\u001b[0m",
      "\u001b[1;31mNameError\u001b[0m                                 Traceback (most recent call last)",
      "Cell \u001b[1;32mIn[12], line 4\u001b[0m\n\u001b[0;32m      2\u001b[0m source_dir \u001b[38;5;241m=\u001b[39m \u001b[38;5;124m\"\u001b[39m\u001b[38;5;124mBollywood Actor Images\u001b[39m\u001b[38;5;124m\"\u001b[39m\n\u001b[0;32m      3\u001b[0m target_dir \u001b[38;5;241m=\u001b[39m \u001b[38;5;124m\"\u001b[39m\u001b[38;5;124mdata\u001b[39m\u001b[38;5;124m\"\u001b[39m\n\u001b[1;32m----> 4\u001b[0m \u001b[43mcrop_faces_and_save\u001b[49m(source_dir, target_dir)\n",
      "\u001b[1;31mNameError\u001b[0m: name 'crop_faces_and_save' is not defined"
     ]
    }
   ],
   "source": [
    "# Example usage:\n",
    "source_dir = \"dataset\"\n",
    "target_dir = \"data\"\n",
    "crop_faces_and_save(source_dir, target_dir)"
   ]
  },
  {
   "cell_type": "markdown",
   "id": "1cfd4efa-7865-4fbb-92f5-6e5a863ef6b2",
   "metadata": {},
   "source": [
    "# Data Augmentation"
   ]
  },
  {
   "cell_type": "code",
   "execution_count": 29,
   "id": "8ac5dbed-68cc-4c51-ac5a-60b8ef5a32b8",
   "metadata": {},
   "outputs": [],
   "source": [
    "# Example usage:\n",
    "source_dir = \"data\"\n",
    "target_dir = \"augmented_data\"\n",
    "\n",
    "os.makedirs(target_dir, exist_ok=True)"
   ]
  },
  {
   "cell_type": "code",
   "execution_count": 30,
   "id": "c9b59fe9-cd65-4458-ba35-eb12830fe046",
   "metadata": {},
   "outputs": [],
   "source": [
    "def augment_and_save(image_path, target_dir):\n",
    "    img = cv2.imread(image_path)\n",
    "    datagen = ImageDataGenerator(\n",
    "        rotation_range=20,\n",
    "        width_shift_range=0.2,\n",
    "        height_shift_range=0.2,\n",
    "        shear_range=0.2,\n",
    "        zoom_range=0.2,\n",
    "        horizontal_flip=True,\n",
    "        fill_mode='nearest')\n",
    "\n",
    "    img = cv2.cvtColor(img, cv2.COLOR_BGR2RGB)\n",
    "    img = img.reshape((1,) + img.shape)\n",
    "    \n",
    "    # Extract the name from the original filename\n",
    "    original_filename = os.path.basename(image_path)\n",
    "    name = original_filename.split('_')[0]\n",
    "\n",
    "    i = 0\n",
    "    for batch in datagen.flow(img, batch_size=1, save_to_dir=target_dir, save_prefix=name, save_format='jpg'):\n",
    "        i += 1\n",
    "        if i > 1:\n",
    "            break\n",
    "\n",
    "    # Rename augmented files to maintain the original naming format\n",
    "    for aug_file in os.listdir(target_dir):\n",
    "        if aug_file.startswith(name) and not aug_file.endswith(\".aug.jpg\"):\n",
    "            aug_uuid = uuid.uuid4()\n",
    "            new_filename = f\"{name}_{aug_uuid}.jpg\"\n",
    "            os.rename(os.path.join(target_dir, aug_file), os.path.join(target_dir, new_filename))\n"
   ]
  },
  {
   "cell_type": "code",
   "execution_count": 31,
   "id": "5931efaf-3474-4e76-bbde-eee1d310efbd",
   "metadata": {},
   "outputs": [],
   "source": [
    "for filename in os.listdir(source_dir):\n",
    "    if filename.endswith('.jpg') or filename.endswith('.jpeg') or filename.endswith('.png'):\n",
    "        image_path = os.path.join(source_dir, filename)\n",
    "        augment_and_save(image_path, target_dir)"
   ]
  },
  {
   "cell_type": "code",
   "execution_count": 11,
   "id": "3dbf5685-4e2c-4973-9636-1c788832f40e",
   "metadata": {},
   "outputs": [],
   "source": [
    "def train_classifier(data_dirs):\n",
    "    if os.path.exists(\"label_map.json\"):\n",
    "        with open(\"label_map.json\", \"r\") as f:\n",
    "            label_map = json.load(f)\n",
    "        current_id = max(label_map.values()) + 1\n",
    "    else:\n",
    "        label_map = {}\n",
    "        current_id = 0\n",
    "    \n",
    "    faces = []\n",
    "    labels = []\n",
    "\n",
    "    for data_dir in data_dirs:\n",
    "        path = [os.path.join(data_dir, f) for f in os.listdir(data_dir) if f.endswith('.jpg')]\n",
    "        \n",
    "        for image_path in path:\n",
    "            img = cv2.imread(image_path, cv2.IMREAD_GRAYSCALE)\n",
    "\n",
    "            filename = os.path.split(image_path)[1]\n",
    "            name = filename.split('_')[0]\n",
    "\n",
    "            if name not in label_map:\n",
    "                label_map[name] = current_id\n",
    "                current_id += 1\n",
    "\n",
    "            label = label_map[name]\n",
    "\n",
    "            faces.append(img)\n",
    "            labels.append(label)\n",
    "\n",
    "    labels = np.array(labels)\n",
    "\n",
    "    clf = cv2.face.LBPHFaceRecognizer_create()\n",
    "    clf.train(faces, labels)\n",
    "    clf.write(\"classifier.xml\")\n",
    "\n",
    "    with open(\"label_map.json\", \"w\") as f:\n",
    "        json.dump(label_map, f)\n",
    "\n",
    "    print(f\"Training completed. {len(label_map)} unique labels saved to 'label_map.json'.\")"
   ]
  },
  {
   "cell_type": "code",
   "execution_count": 12,
   "id": "7e7b123c-610e-431a-88d1-cb55b4d38c6f",
   "metadata": {},
   "outputs": [
    {
     "name": "stdout",
     "output_type": "stream",
     "text": [
      "Training completed. 5 unique labels saved to 'label_map.json'.\n"
     ]
    }
   ],
   "source": [
    "data_dirs = [\"data\"]\n",
    "train_classifier(data_dirs)"
   ]
  },
  {
   "cell_type": "markdown",
   "id": "f8e9d046-4b36-4ae4-aadb-ef65c9e0ee61",
   "metadata": {},
   "source": [
    "# Real-Time Face Recognition"
   ]
  },
  {
   "cell_type": "code",
   "execution_count": 4,
   "id": "c8244b02-e7a9-4eba-ab27-8cdf72341b44",
   "metadata": {},
   "outputs": [],
   "source": [
    "def draw_boundary(img, classifier, scaleFactor, minNeighbors, color, clf):\n",
    "    gray_img = cv2.cvtColor(img, cv2.COLOR_BGR2GRAY)\n",
    "    features = classifier.detectMultiScale(gray_img, scaleFactor, minNeighbors)\n",
    "     \n",
    "    for (x, y, w, h) in features:\n",
    "        cv2.rectangle(img, (x, y), (x + w, y + h), color, 2)\n",
    "         \n",
    "        # Perform face recognition\n",
    "        id_, pred = clf.predict(gray_img[y:y + h, x:x + w])\n",
    "        confidence = int(100 * (1 - pred / 300))\n",
    "         \n",
    "        # Display recognized name if confidence is high\n",
    "        if confidence > 70:\n",
    "            name = reverse_label_map.get(id_, \"UNKNOWN\")\n",
    "            cv2.putText(img, name, (x, y - 5), cv2.FONT_HERSHEY_SIMPLEX, 0.8, color, 1, cv2.LINE_AA)\n",
    "        else:\n",
    "            cv2.putText(img, \"UNKNOWN\", (x, y - 5), cv2.FONT_HERSHEY_SIMPLEX, 0.8, color, 1, cv2.LINE_AA)\n",
    "    return img"
   ]
  },
  {
   "cell_type": "code",
   "execution_count": 5,
   "id": "9902c236-b144-4b73-9d21-9359f6a2ee74",
   "metadata": {},
   "outputs": [],
   "source": [
    "def recognize(img, clf, faceCascade):\n",
    "    color = {\"blue\": (255, 0, 0), \"red\": (0, 0, 255), \"green\": (0, 255, 0)}\n",
    "    img = draw_boundary(img, faceCascade, 1.1, 10, color['red'], clf)\n",
    "    return img"
   ]
  },
  {
   "cell_type": "code",
   "execution_count": 6,
   "id": "c1699f80-fa11-4480-8bed-23be863c87e5",
   "metadata": {},
   "outputs": [],
   "source": [
    "# Load the label map\n",
    "import json\n",
    "\n",
    "with open(\"label_map.json\", \"r\") as f:\n",
    "    label_map = json.load(f)\n",
    "\n",
    "# Reverse the label map to get names from labels\n",
    "reverse_label_map = {int(v): k for k, v in label_map.items()}\n",
    "\n",
    "# Initialize the face cascade and the LBPH face recognizer\n",
    "face_cascade = cv2.CascadeClassifier('haarcascade_frontalface_default.xml')\n",
    "clf = cv2.face.LBPHFaceRecognizer_create()\n",
    "\n",
    "try:\n",
    "    clf.read('classifier.xml')\n",
    "except Exception as e:\n",
    "    print(f\"Failed to read 'classifier.xml': {e}\")\n",
    "# Initialize the webcam\n",
    "cap = cv2.VideoCapture(0)\n",
    "\n",
    "while True:\n",
    "    ret, frame = cap.read()\n",
    "    if ret:\n",
    "        frame = recognize(frame, clf, face_cascade)\n",
    "        cv2.imshow('Face Recognition', frame)\n",
    "\n",
    "    if cv2.waitKey(1) == 13:  # 13 is the Enter key\n",
    "        break\n",
    "\n",
    "cap.release()\n",
    "cv2.destroyAllWindows()"
   ]
  }
 ],
 "metadata": {
  "kernelspec": {
   "display_name": "FaceRecProject",
   "language": "python",
   "name": "facerecproject"
  },
  "language_info": {
   "codemirror_mode": {
    "name": "ipython",
    "version": 3
   },
   "file_extension": ".py",
   "mimetype": "text/x-python",
   "name": "python",
   "nbconvert_exporter": "python",
   "pygments_lexer": "ipython3",
   "version": "3.11.0"
  }
 },
 "nbformat": 4,
 "nbformat_minor": 5
}
