{
 "cells": [
  {
   "cell_type": "markdown",
   "id": "0329b9a2-5e0e-4e50-97a8-e61168474afc",
   "metadata": {},
   "source": [
    "# import dependecies"
   ]
  },
  {
   "cell_type": "code",
   "execution_count": 25,
   "id": "bc127a13-4656-410d-87a2-63609ffb910f",
   "metadata": {},
   "outputs": [],
   "source": [
    "import cv2\n",
    "import os\n",
    "import numpy as np\n",
    "import uuid\n",
    "from pathlib import Path\n",
    "from sklearn.model_selection import train_test_split\n",
    "import json"
   ]
  },
  {
   "cell_type": "markdown",
   "id": "b7ff4f3b-36b1-418b-af92-8f5ecd8d995b",
   "metadata": {},
   "source": [
    "# DataSet Generation"
   ]
  },
  {
   "cell_type": "code",
   "execution_count": 10,
   "id": "7b790a9d-5953-453d-8380-d15ddc470aa2",
   "metadata": {},
   "outputs": [
    {
     "name": "stdout",
     "output_type": "stream",
     "text": [
      "Collecting samples is completed....\n"
     ]
    }
   ],
   "source": [
    "def generate_dataset(name):\n",
    "    face_classifier = cv2.CascadeClassifier(\"haarcascade_frontalface_default.xml\")\n",
    "    \n",
    "    def face_cropped(img):\n",
    "        gray = cv2.cvtColor(img, cv2.COLOR_BGR2GRAY)\n",
    "        faces = face_classifier.detectMultiScale(gray, 1.3, 5)\n",
    "        \n",
    "        if len(faces) == 0:\n",
    "            return None\n",
    "        for (x, y, w, h) in faces:\n",
    "            cropped_face = img[y:y+h, x:x+w]\n",
    "        return cropped_face\n",
    "    \n",
    "    cap = cv2.VideoCapture(0)\n",
    "    img_id = 0\n",
    "    \n",
    "    while True:\n",
    "        ret, frame = cap.read()\n",
    "        if face_cropped(frame) is not None:\n",
    "            img_id += 1\n",
    "            face = cv2.resize(face_cropped(frame), (200, 200))\n",
    "            face = cv2.cvtColor(face, cv2.COLOR_BGR2GRAY)\n",
    "            \n",
    "            unique_filename = f\"{name}_{str(uuid.uuid4())}.jpg\"\n",
    "            file_name_path = os.path.join(\"data\", unique_filename)\n",
    "            cv2.imwrite(file_name_path, face)\n",
    "            cv2.putText(face, str(img_id), (50, 50), cv2.FONT_HERSHEY_COMPLEX, 1, (0, 255, 0), 2)\n",
    "            \n",
    "            cv2.imshow(\"Cropped face\", face)\n",
    "        \n",
    "        if cv2.waitKey(1) == 13 or img_id == 200: # 13 is the ASCII character of Enter\n",
    "            break\n",
    "    \n",
    "    cap.release()\n",
    "    cv2.destroyAllWindows()\n",
    "    print(\"Collecting samples is completed....\")\n",
    "\n",
    "# Example usage\n",
    "generate_dataset(\"Mahesh_Semwal\")"
   ]
  },
  {
   "cell_type": "markdown",
   "id": "f26de447-d216-4da8-85c5-d0975b469d34",
   "metadata": {},
   "source": [
    "# Save Data from LFW to Data and CROP"
   ]
  },
  {
   "cell_type": "code",
   "execution_count": 17,
   "id": "9930e6fa-44f0-4c22-8f4e-c7f6b9b86372",
   "metadata": {},
   "outputs": [],
   "source": [
    "def crop_faces_and_save(source_dir, target_dir):\n",
    "    # Initialize face cascade\n",
    "    face_classifier = cv2.CascadeClassifier(\"haarcascade_frontalface_default.xml\")\n",
    "\n",
    "    # Ensure the target directory exists\n",
    "    os.makedirs(target_dir, exist_ok=True)\n",
    "\n",
    "    # Process each image in the dataset\n",
    "    for person_dir in Path(source_dir).iterdir():\n",
    "        if person_dir.is_dir():\n",
    "            person_name = person_dir.name\n",
    "            for image_path in person_dir.iterdir():\n",
    "                if image_path.is_file() and image_path.suffix in [\".jpg\", \".jpeg\", \".png\"]:\n",
    "                    img = cv2.imread(str(image_path))\n",
    "                    gray_img = cv2.cvtColor(img, cv2.COLOR_BGR2GRAY)\n",
    "                    \n",
    "                    # Detect faces\n",
    "                    faces = face_classifier.detectMultiScale(gray_img, scaleFactor=1.3, minNeighbors=5)\n",
    "                    \n",
    "                    # Crop and save each detected face\n",
    "                    for i, (x, y, w, h) in enumerate(faces):\n",
    "                        face = gray_img[y:y+h, x:x+w]\n",
    "                        unique_filename = f\"{person_name}_{i}_{str(uuid.uuid4())}.jpg\"\n",
    "                        file_name_path = os.path.join(target_dir, unique_filename)\n",
    "                        cv2.imwrite(file_name_path, face)\n",
    "\n",
    "    print(\"Face cropping and saving completed for all images in 'LFW' directory.\")"
   ]
  },
  {
   "cell_type": "code",
   "execution_count": 18,
   "id": "5ed5f81f-17c5-4992-89a6-5690f286cb57",
   "metadata": {},
   "outputs": [
    {
     "name": "stdout",
     "output_type": "stream",
     "text": [
      "Face cropping and saving completed for all images in 'LFW' directory.\n"
     ]
    }
   ],
   "source": [
    "# Example usage:\n",
    "source_dir = \"lfw\"\n",
    "target_dir = \"data\"\n",
    "crop_faces_and_save(source_dir, target_dir)"
   ]
  },
  {
   "cell_type": "markdown",
   "id": "1cfd4efa-7865-4fbb-92f5-6e5a863ef6b2",
   "metadata": {},
   "source": [
    "# Data Augmentation"
   ]
  },
  {
   "cell_type": "code",
   "execution_count": 26,
   "id": "5144c1ad-a9ce-491c-ad76-4e53f9d2c44c",
   "metadata": {},
   "outputs": [],
   "source": [
    "import os\n",
    "import numpy as np\n",
    "from tensorflow.keras.preprocessing.image import ImageDataGenerator\n",
    "from tensorflow.keras.applications import ResNet50\n",
    "from tensorflow.keras.layers import Dense, Flatten, Dropout\n",
    "from tensorflow.keras.models import Model\n",
    "from tensorflow.keras.optimizers import Adam"
   ]
  },
  {
   "cell_type": "code",
   "execution_count": null,
   "id": "c9b59fe9-cd65-4458-ba35-eb12830fe046",
   "metadata": {},
   "outputs": [],
   "source": [
    "# Function to perform data augmentation and save augmented images\n",
    "def augment_and_save(image_path, target_dir):\n",
    "    img = cv2.imread(image_path)\n",
    "    datagen = ImageDataGenerator(\n",
    "        rotation_range=20,\n",
    "        width_shift_range=0.2,\n",
    "        height_shift_range=0.2,\n",
    "        shear_range=0.2,\n",
    "        zoom_range=0.2,\n",
    "        horizontal_flip=True,\n",
    "        fill_mode='nearest')\n",
    "\n",
    "    img = cv2.cvtColor(img, cv2.COLOR_BGR2RGB)\n",
    "    img = img.reshape((1,) + img.shape)\n",
    "    \n",
    "    i = 0\n",
    "    for batch in datagen.flow(img, batch_size=1, save_to_dir=target_dir, save_prefix='aug', save_format='jpg'):\n",
    "        i += 1\n",
    "        if i > 4:\n",
    "            break\n"
   ]
  },
  {
   "cell_type": "markdown",
   "id": "ff887cbc-c7c2-4086-9dd9-a1ae30ddb773",
   "metadata": {},
   "source": [
    "# transefer learning Model"
   ]
  },
  {
   "cell_type": "code",
   "execution_count": null,
   "id": "d169e6e1-fc49-4caa-81f9-344b8f641ec3",
   "metadata": {},
   "outputs": [],
   "source": [
    "# Function to train a transfer learning model\n",
    "def train_transfer_learning_model(data_dir):\n",
    "    base_model = ResNet50(weights='imagenet', include_top=False, input_shape=(224, 224, 3))\n",
    "\n",
    "    for layer in base_model.layers:\n",
    "        layer.trainable = False\n",
    "\n",
    "    x = Flatten()(base_model.output)\n",
    "    x = Dense(512, activation='relu')(x)\n",
    "    x = Dropout(0.5)(x)\n",
    "    output = Dense(num_classes, activation='softmax')(x)\n",
    "\n",
    "    model = Model(inputs=base_model.input, outputs=output)\n",
    "\n",
    "    model.compile(optimizer=Adam(lr=0.001), loss='categorical_crossentropy', metrics=['accuracy'])\n",
    "\n",
    "    train_datagen = ImageDataGenerator(\n",
    "        rescale=1./255,\n",
    "        rotation_range=20,\n",
    "        width_shift_range=0.2,\n",
    "        height_shift_range=0.2,\n",
    "        shear_range=0.2,\n",
    "        zoom_range=0.2,\n",
    "        horizontal_flip=True,\n",
    "        fill_mode='nearest')\n",
    "\n",
    "    # Example: Load and augment your dataset\n",
    "    # train_generator = train_datagen.flow_from_directory(...)\n",
    "\n",
    "    model.fit_generator(train_generator, epochs=10, steps_per_epoch=len(train_generator), validation_data=val_generator, validation_steps=len(val_generator))\n",
    "\n",
    "    model.save('transfer_learning_model.h5')\n"
   ]
  },
  {
   "cell_type": "markdown",
   "id": "ed04083a-d1ca-4d70-8103-d14d45fde89e",
   "metadata": {},
   "source": [
    "# one shot Learning"
   ]
  },
  {
   "cell_type": "code",
   "execution_count": null,
   "id": "a4e779bf-6432-4545-a274-b9fe00cd1070",
   "metadata": {},
   "outputs": [],
   "source": [
    "import cv2\n",
    "import numpy as np\n",
    "from tensorflow.keras.models import load_model\n",
    "\n",
    "# Function for one-shot learning using OpenCV\n",
    "def one_shot_learning(reference_img_path, query_img_path):\n",
    "    reference_img = cv2.imread(reference_img_path, cv2.IMREAD_GRAYSCALE)\n",
    "    query_img = cv2.imread(query_img_path, cv2.IMREAD_GRAYSCALE)\n",
    "\n",
    "    face_cascade = cv2.CascadeClassifier('haarcascade_frontalface_default.xml')\n",
    "    faces_ref = face_cascade.detectMultiScale(reference_img, scaleFactor=1.3, minNeighbors=5)\n",
    "    faces_query = face_cascade.detectMultiScale(query_img, scaleFactor=1.3, minNeighbors=5)\n",
    "\n",
    "    # Assuming single face detection from each image for simplicity\n",
    "    if len(faces_ref) == 1 and len(faces_query) == 1:\n",
    "        (x_ref, y_ref, w_ref, h_ref) = faces_ref[0]\n",
    "        (x_query, y_query, w_query, h_query) = faces_query[0]\n",
    "\n",
    "        # Crop faces\n",
    "        face_ref = reference_img[y_ref:y_ref+h_ref, x_ref:x_ref+w_ref]\n",
    "        face_query = query_img[y_query:y_query+h_query, x_query:x_query+w_query]\n",
    "\n",
    "        # Resize to a fixed size for model compatibility\n",
    "        face_ref = cv2.resize(face_ref, (224, 224))\n",
    "        face_query = cv2.resize(face_query, (224, 224))\n",
    "\n",
    "        # Preprocess images for model prediction\n",
    "        face_ref = np.expand_dims(face_ref, axis=0) / 255.0\n",
    "        face_query = np.expand_dims(face_query, axis=0) / 255.0\n",
    "\n",
    "        # Load your transfer learning model\n",
    "        model = load_model('transfer_learning_model.h5')\n",
    "\n",
    "        # Extract features using the model\n",
    "        features_ref = model.predict(face_ref)\n",
    "        features_query = model.predict(face_query)\n",
    "\n",
    "        # Compute similarity score (e.g., cosine similarity)\n",
    "        similarity_score = np.dot(features_ref, features_query.T)[0, 0]\n",
    "\n",
    "        # Determine if faces are the same based on threshold\n",
    "        if similarity_score > 0.5:\n",
    "            return True\n",
    "        else:\n",
    "            return False\n",
    "    else:\n",
    "        print(\"Error: Could not detect exactly one face in either reference or query image.\")\n",
    "        return None\n"
   ]
  },
  {
   "cell_type": "markdown",
   "id": "f8e9d046-4b36-4ae4-aadb-ef65c9e0ee61",
   "metadata": {},
   "source": [
    "# Real-Time Face Recognition"
   ]
  },
  {
   "cell_type": "code",
   "execution_count": 22,
   "id": "c8244b02-e7a9-4eba-ab27-8cdf72341b44",
   "metadata": {},
   "outputs": [],
   "source": [
    "# Function to draw boundaries around detected faces and recognize them\n",
    "def draw_boundary(img, classifier, scaleFactor, minNeighbors, color, clf):\n",
    "    gray_img = cv2.cvtColor(img, cv2.COLOR_BGR2GRAY)\n",
    "    features = classifier.detectMultiScale(gray_img, scaleFactor, minNeighbors)\n",
    "     \n",
    "    for (x, y, w, h) in features:\n",
    "        cv2.rectangle(img, (x, y), (x + w, y + h), color, 2)\n",
    "         \n",
    "        # Perform face recognition\n",
    "        id_, pred = clf.predict(gray_img[y:y + h, x:x + w])\n",
    "        confidence = int(100 * (1 - pred / 300))\n",
    "         \n",
    "        # Display recognized name if confidence is high\n",
    "        if confidence > 70:\n",
    "            name = reverse_label_map.get(id_, \"UNKNOWN\")\n",
    "            cv2.putText(img, name, (x, y - 5), cv2.FONT_HERSHEY_SIMPLEX, 0.8, color, 1, cv2.LINE_AA)\n",
    "        else:\n",
    "            cv2.putText(img, \"UNKNOWN\", (x, y - 5), cv2.FONT_HERSHEY_SIMPLEX, 0.8, (0, 0, 255), 1, cv2.LINE_AA)\n",
    "     \n",
    "    return img\n",
    "\n"
   ]
  },
  {
   "cell_type": "code",
   "execution_count": 23,
   "id": "9902c236-b144-4b73-9d21-9359f6a2ee74",
   "metadata": {},
   "outputs": [],
   "source": [
    "import cv2\n",
    "import json\n",
    "from tensorflow.keras.models import load_model\n",
    "\n",
    "# Load the label map\n",
    "with open(\"label_map.json\", \"r\") as f:\n",
    "    label_map = json.load(f)\n",
    "\n",
    "# Reverse the label map to get names from labels\n",
    "reverse_label_map = {int(v): k for k, v in label_map.items()}\n",
    "\n",
    "# Initialize the face cascade and the LBPH face recognizer\n",
    "face_cascade = cv2.CascadeClassifier('haarcascade_frontalface_default.xml')\n",
    "clf = cv2.face.LBPHFaceRecognizer_create()\n",
    "clf.read('classifier.xml')\n",
    "\n",
    "# Capture video from the webcam and perform real-time face recognition\n",
    "cap = cv2.VideoCapture(0)\n",
    "\n",
    "while True:\n",
    "    ret, frame = cap.read()\n",
    "    if not ret:\n",
    "        break\n",
    "\n",
    "    # Apply the face detection and recognition\n",
    "    frame = draw_boundary(frame, face_cascade, scaleFactor=1.1, minNeighbors=5, color=(255, 0, 0), clf=clf)\n",
    "\n",
    "    # Display the result\n",
    "    cv2.imshow(\"Face Detection\", frame)\n",
    "\n",
    "    # Exit on 'Enter' key press\n",
    "    if cv2.waitKey(1) == 13:\n",
    "        break\n",
    "\n",
    "cap.release()\n",
    "cv2.destroyAllWindows()\n"
   ]
  }
 ],
 "metadata": {
  "kernelspec": {
   "display_name": "FaceRecProject",
   "language": "python",
   "name": "facerecproject"
  },
  "language_info": {
   "codemirror_mode": {
    "name": "ipython",
    "version": 3
   },
   "file_extension": ".py",
   "mimetype": "text/x-python",
   "name": "python",
   "nbconvert_exporter": "python",
   "pygments_lexer": "ipython3",
   "version": "3.11.0"
  }
 },
 "nbformat": 4,
 "nbformat_minor": 5
}
