{
 "cells": [
  {
   "cell_type": "code",
   "execution_count": 1,
   "id": "bc127a13-4656-410d-87a2-63609ffb910f",
   "metadata": {},
   "outputs": [],
   "source": [
    "import uuid\n",
    "import cv2\n",
    "import os\n",
    "import numpy as np\n",
    "from sklearn.datasets import fetch_lfw_people\n",
    "import uuid"
   ]
  },
  {
   "cell_type": "code",
   "execution_count": 10,
   "id": "7b790a9d-5953-453d-8380-d15ddc470aa2",
   "metadata": {},
   "outputs": [
    {
     "name": "stdout",
     "output_type": "stream",
     "text": [
      "Collecting samples is completed....\n"
     ]
    }
   ],
   "source": [
    "def generate_dataset(name):\n",
    "    face_classifier = cv2.CascadeClassifier(\"haarcascade_frontalface_default.xml\")\n",
    "    \n",
    "    def face_cropped(img):\n",
    "        gray = cv2.cvtColor(img, cv2.COLOR_BGR2GRAY)\n",
    "        faces = face_classifier.detectMultiScale(gray, 1.3, 5)\n",
    "        \n",
    "        if len(faces) == 0:\n",
    "            return None\n",
    "        for (x, y, w, h) in faces:\n",
    "            cropped_face = img[y:y+h, x:x+w]\n",
    "        return cropped_face\n",
    "    \n",
    "    cap = cv2.VideoCapture(0)\n",
    "    img_id = 0\n",
    "    \n",
    "    while True:\n",
    "        ret, frame = cap.read()\n",
    "        if face_cropped(frame) is not None:\n",
    "            img_id += 1\n",
    "            face = cv2.resize(face_cropped(frame), (200, 200))\n",
    "            face = cv2.cvtColor(face, cv2.COLOR_BGR2GRAY)\n",
    "            \n",
    "            unique_filename = f\"{name}_{str(uuid.uuid4())}.jpg\"\n",
    "            file_name_path = os.path.join(\"data\", unique_filename)\n",
    "            cv2.imwrite(file_name_path, face)\n",
    "            cv2.putText(face, str(img_id), (50, 50), cv2.FONT_HERSHEY_COMPLEX, 1, (0, 255, 0), 2)\n",
    "            \n",
    "            cv2.imshow(\"Cropped face\", face)\n",
    "        \n",
    "        if cv2.waitKey(1) == 13 or img_id == 200: # 13 is the ASCII character of Enter\n",
    "            break\n",
    "    \n",
    "    cap.release()\n",
    "    cv2.destroyAllWindows()\n",
    "    print(\"Collecting samples is completed....\")\n",
    "\n",
    "# Example usage\n",
    "generate_dataset(\"Mahesh_Semwal\")\n"
   ]
  },
  {
   "cell_type": "code",
   "execution_count": 2,
   "id": "ddcd25f5-6c40-474c-9267-7144b17aeabb",
   "metadata": {},
   "outputs": [],
   "source": [
    "import numpy as np\n",
    "from PIL import Image\n",
    "import os\n",
    "import cv2\n",
    "import json"
   ]
  },
  {
   "cell_type": "code",
   "execution_count": 24,
   "id": "a0f7a680-a05b-4519-85cc-ac06e9b9f5f2",
   "metadata": {},
   "outputs": [],
   "source": [
    "def train_classifier(data_dir):\n",
    "    # Load existing label map if it exists\n",
    "    if os.path.exists(\"label_map.json\"):\n",
    "        with open(\"label_map.json\", \"r\") as f:\n",
    "            label_map = json.load(f)\n",
    "        current_id = max(label_map.values()) + 1\n",
    "    else:\n",
    "        label_map = {}\n",
    "        current_id = 0\n",
    "    \n",
    "    path = [os.path.join(data_dir, f) for f in os.listdir(data_dir) if f.endswith('.jpg')]\n",
    "     \n",
    "    faces = []\n",
    "    labels = []\n",
    "\n",
    "    for image_path in path:\n",
    "        # Load image and convert to grayscale\n",
    "        img = Image.open(image_path).convert('L')\n",
    "        image_np = np.array(img, 'uint8')\n",
    "\n",
    "        # Extract name from the filename\n",
    "        filename = os.path.split(image_path)[1]\n",
    "        name = filename.split('_')[0]\n",
    "\n",
    "        # Assign a numeric label to each unique name\n",
    "        if name not in label_map:\n",
    "            label_map[name] = current_id\n",
    "            current_id += 1\n",
    "\n",
    "        label = label_map[name]\n",
    "        \n",
    "        faces.append(image_np)\n",
    "        labels.append(label)\n",
    "     \n",
    "    labels = np.array(labels)\n",
    "     \n",
    "    # Train and save classifier\n",
    "    clf = cv2.face.LBPHFaceRecognizer_create()\n",
    "    clf.train(faces, labels)\n",
    "    clf.write(\"classifier.xml\")\n",
    "    \n",
    "    # Save the updated label map to a file\n",
    "    with open(\"label_map.json\", \"w\") as f:\n",
    "        json.dump(label_map, f)\n",
    "\n",
    "    print(f\"Training completed. {len(label_map)} unique labels saved to 'label_map.json'.\")"
   ]
  },
  {
   "cell_type": "code",
   "execution_count": 25,
   "id": "e2b8da65-e8e6-4dcc-b4ab-05a2f51bc9cf",
   "metadata": {},
   "outputs": [
    {
     "name": "stdout",
     "output_type": "stream",
     "text": [
      "Training completed. 2281 unique labels saved to 'label_map.json'.\n"
     ]
    }
   ],
   "source": [
    "train_classifier(\"data\")"
   ]
  },
  {
   "cell_type": "code",
   "execution_count": 3,
   "id": "c8244b02-e7a9-4eba-ab27-8cdf72341b44",
   "metadata": {},
   "outputs": [],
   "source": [
    "import cv2\n",
    "import json\n",
    "\n",
    "# Load the label map\n",
    "with open(\"label_map.json\", \"r\") as f:\n",
    "    label_map = json.load(f)\n",
    "\n",
    "# Reverse the label map to get names from labels\n",
    "reverse_label_map = {v: k for k, v in label_map.items()}\n",
    "\n",
    "def draw_boundary(img, classifier, scaleFactor, minNeighbors, color, clf):\n",
    "    gray_img = cv2.cvtColor(img, cv2.COLOR_BGR2GRAY)\n",
    "    features = classifier.detectMultiScale(gray_img, scaleFactor, minNeighbors)\n",
    "     \n",
    "    for (x, y, w, h) in features:\n",
    "        cv2.rectangle(img, (x, y), (x + w, y + h), color, 2)\n",
    "         \n",
    "        id, pred = clf.predict(gray_img[y:y + h, x:x + w])\n",
    "        confidence = int(100 * (1 - pred / 300))\n",
    "         \n",
    "        if confidence > 70:\n",
    "            name = reverse_label_map.get(id, \"UNKNOWN\")\n",
    "            cv2.putText(img, name, (x, y - 5), cv2.FONT_HERSHEY_SIMPLEX, 0.8, color, 1, cv2.LINE_AA)\n",
    "        else:\n",
    "            cv2.putText(img, \"UNKNOWN\", (x, y - 5), cv2.FONT_HERSHEY_SIMPLEX, 0.8, (0, 0, 255), 1, cv2.LINE_AA)\n",
    "     \n",
    "    return img\n",
    "\n",
    "# Usage example:\n",
    "# Assuming `face_cascade` is your Haar cascade classifier and `clf` is your trained LBPH face recognizer\n",
    "# img = cv2.imread(\"path/to/image.jpg\")\n",
    "# result_img = draw_boundary(img, face_cascade, 1.1, 10, (255, 0, 0), clf)\n",
    "# cv2.imshow(\"Face Detection\", result_img)\n",
    "# cv2.waitKey(0)\n",
    "# cv2.destroyAllWindows()\n"
   ]
  },
  {
   "cell_type": "code",
   "execution_count": 4,
   "id": "9902c236-b144-4b73-9d21-9359f6a2ee74",
   "metadata": {},
   "outputs": [],
   "source": [
    "# Initialize the face cascade and the face recognizer\n",
    "face_cascade = cv2.CascadeClassifier('haarcascade_frontalface_default.xml')\n",
    "clf = cv2.face.LBPHFaceRecognizer_create()\n",
    "clf.read('classifier.xml')\n",
    "\n",
    "# Capture video from the webcam\n",
    "cap = cv2.VideoCapture(0)\n",
    "\n",
    "while True:\n",
    "    ret, frame = cap.read()\n",
    "    if not ret:\n",
    "        break\n",
    "    \n",
    "    # Apply the face detection and recognition\n",
    "    frame = draw_boundary(frame, face_cascade, 1.1, 10, (255, 0, 0), clf)\n",
    "    \n",
    "    # Display the result\n",
    "    cv2.imshow(\"Face Detection\", frame)\n",
    "    \n",
    "    if cv2.waitKey(1) == 13:  # Press Enter to exit\n",
    "        break\n",
    "\n",
    "cap.release()\n",
    "cv2.destroyAllWindows()"
   ]
  },
  {
   "cell_type": "code",
   "execution_count": 23,
   "id": "acf71450-8a53-4809-a8d2-f1aea8bae58e",
   "metadata": {},
   "outputs": [
    {
     "name": "stdout",
     "output_type": "stream",
     "text": [
      "LFW dataset processed and saved in 'data' directory.\n"
     ]
    }
   ],
   "source": [
    "import os\n",
    "import cv2\n",
    "import uuid\n",
    "from pathlib import Path\n",
    "\n",
    "# Define the source directory and the target directory\n",
    "source_dir = \"lfw\"\n",
    "target_dir = \"data\"\n",
    "\n",
    "# Ensure the target directory exists\n",
    "os.makedirs(target_dir, exist_ok=True)\n",
    "\n",
    "# Process each image in the dataset\n",
    "for person_dir in Path(source_dir).iterdir():\n",
    "    if person_dir.is_dir():\n",
    "        person_name = person_dir.name\n",
    "        for image_path in person_dir.iterdir():\n",
    "            if image_path.is_file() and image_path.suffix in [\".jpg\", \".jpeg\", \".png\"]:\n",
    "                img = cv2.imread(str(image_path))\n",
    "                gray_img = cv2.cvtColor(img, cv2.COLOR_BGR2GRAY)\n",
    "                unique_filename = f\"{person_name}_{str(uuid.uuid4())}.jpg\"\n",
    "                file_name_path = os.path.join(target_dir, unique_filename)\n",
    "                cv2.imwrite(file_name_path, gray_img)\n",
    "\n",
    "print(\"LFW dataset processed and saved in 'data' directory.\")"
   ]
  },
  {
   "cell_type": "code",
   "execution_count": null,
   "id": "fa96ead8-edbf-4d41-b5ca-fe5703f06d4a",
   "metadata": {},
   "outputs": [],
   "source": []
  }
 ],
 "metadata": {
  "kernelspec": {
   "display_name": "FaceRecProject",
   "language": "python",
   "name": "facerecproject"
  },
  "language_info": {
   "codemirror_mode": {
    "name": "ipython",
    "version": 3
   },
   "file_extension": ".py",
   "mimetype": "text/x-python",
   "name": "python",
   "nbconvert_exporter": "python",
   "pygments_lexer": "ipython3",
   "version": "3.11.0"
  }
 },
 "nbformat": 4,
 "nbformat_minor": 5
}
